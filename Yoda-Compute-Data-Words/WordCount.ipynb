{
 "cells": [
  {
   "cell_type": "markdown",
   "metadata": {},
   "source": [
    "# Wordcount - an example how to work with data stored in iRODS\n",
    "\n",
    "## Imports\n",
    "- Standard python modules to do file operations and generate timestamps\n",
    "- Own library of useful functions\n",
    "- The necessary iRODS modules for connecting to iRODS, Data, Collection and Metadata operations inside of iRODS"
   ]
  },
  {
   "cell_type": "code",
   "execution_count": 1,
   "metadata": {},
   "outputs": [],
   "source": [
    "import os\n",
    "import json\n",
    "import string\n",
    "import datetime\n",
    "from collections import Counter\n",
    "from shutil import rmtree\n",
    "from pathlib import Path\n",
    "from helperFunctions import *\n",
    "\n",
    "from irods.session import iRODSSession\n",
    "from irods.models import Collection, DataObject, CollectionMeta, DataObjectMeta"
   ]
  },
  {
   "cell_type": "markdown",
   "metadata": {},
   "source": [
    "## Connecting to iRODS"
   ]
  },
  {
   "cell_type": "markdown",
   "metadata": {},
   "source": [
    "### Login to Yoda instances\n",
    "To connect to Yoda you will need an environment file. These files can be found [here (Step 2. Configuring iCommands)](https://www.uu.nl/en/research/yoda/guide-to-yoda/i-am-using-yoda/using-icommands-for-large-datasets). Please adjust the username in the file for your Yoda instance and store that file in your home-directory `~/.irods/irods-environment.json`.\n",
    "\n",
    "You will also need a [Data Access Password](https://www.uu.nl/en/research/yoda/using-data-access-passwords). "
   ]
  },
  {
   "cell_type": "code",
   "execution_count": 6,
   "metadata": {},
   "outputs": [],
   "source": [
    "import getpass\n",
    "passwd = getpass.getpass(\"Yoda data access password\")"
   ]
  },
  {
   "cell_type": "code",
   "execution_count": 14,
   "metadata": {},
   "outputs": [
    {
     "name": "stdout",
     "output_type": "stream",
     "text": [
      "{'irods_host': 'its.data.uu.nl', 'irods_port': 1247, 'irods_home': '/nluu12p/home', 'irods_user_name': 'n.moopen@uu.nl', 'irods_zone_name': 'nluu12p', 'irods_authentication_scheme': 'pam', 'irods_encryption_algorithm': 'AES-256-CBC', 'irods_encryption_key_size': 32, 'irods_encryption_num_hash_rounds': 16, 'irods_encryption_salt_size': 8, 'irods_client_server_policy': 'CS_NEG_REQUIRE', 'irods_client_server_negotiation': 'request_server_negotiation'}\n"
     ]
    }
   ],
   "source": [
    "with open(os.path.expanduser(\"~/.irods/irods_environment_its.json\"), \"r\") as f:\n",
    "    ienv = json.load(f)\n",
    "session = iRODSSession(**ienv, password=passwd)\n",
    "print(ienv)"
   ]
  },
  {
   "cell_type": "markdown",
   "metadata": {},
   "source": [
    "Now we can check to which iRODS collections we have access to. The usual home directory for users and groups you can find in the collection '/zonename/home'. In some cases this collection is not open to users and you need to directly lookinto your personal home collection '/zonename/home/username'"
   ]
  },
  {
   "cell_type": "code",
   "execution_count": 15,
   "metadata": {},
   "outputs": [
    {
     "name": "stdout",
     "output_type": "stream",
     "text": [
      "/nluu12p/home/research-test-christine\n",
      "Data objects in /nluu12p/home/research-test-christine [<iRODSDataObject 21268916 amberTest.wav>, <iRODSDataObject 21349665 Demo.tar>, <iRODSDataObject 21367867 wordcount_res.txt>, <iRODSDataObject 21367891 wordcount_res.txt_0>, <iRODSDataObject 21367912 wordcount_res.txt_1>, <iRODSDataObject 21279320 wordcount_result.txt>, <iRODSDataObject 21367869 wordcount_result.txt_0>, <iRODSDataObject 21367892 wordcount_result.txt_0_1>, <iRODSDataObject 21367913 wordcount_result.txt_0_1_2>]\n",
      "Subcollections in /nluu12p/home/research-test-christine [<iRODSCollection 21343988 b'amber'>, <iRODSCollection 21260094 b'blabla'>, <iRODSCollection 21349657 b'boohoo1'>, <iRODSCollection 21277309 b'books'>, <iRODSCollection 21362737 b'Demo'>, <iRODSCollection 21349689 b'ELN'>, <iRODSCollection 21277398 b'game'>, <iRODSCollection 21277405 b'iRODS-setup-ACES'>, <iRODSCollection 21363008 b'test'>, <iRODSCollection 21362083 b'testdata'>, <iRODSCollection 21272097 b'YOUth_mock'>]\n"
     ]
    }
   ],
   "source": [
    "# Path to general home (YODA)\n",
    "path = '/' + session.zone + '/home/research-test-christine'\n",
    "print(path)\n",
    "collection = session.collections.get(path)\n",
    "print(\"Data objects in\", path, collection.data_objects)\n",
    "print(\"Subcollections in\", path, collection.subcollections)"
   ]
  },
  {
   "cell_type": "markdown",
   "metadata": {},
   "source": [
    "Now we get our group's collection:"
   ]
  },
  {
   "cell_type": "code",
   "execution_count": 16,
   "metadata": {},
   "outputs": [
    {
     "name": "stdout",
     "output_type": "stream",
     "text": [
      "Data objects in /nluu12p/home/research-test-christine [<iRODSDataObject 21268916 amberTest.wav>, <iRODSDataObject 21349665 Demo.tar>, <iRODSDataObject 21367867 wordcount_res.txt>, <iRODSDataObject 21367891 wordcount_res.txt_0>, <iRODSDataObject 21367912 wordcount_res.txt_1>, <iRODSDataObject 21279320 wordcount_result.txt>, <iRODSDataObject 21367869 wordcount_result.txt_0>, <iRODSDataObject 21367892 wordcount_result.txt_0_1>, <iRODSDataObject 21367913 wordcount_result.txt_0_1_2>]\n",
      "Subcollections in /nluu12p/home/research-test-christine [<iRODSCollection 21343988 b'amber'>, <iRODSCollection 21260094 b'blabla'>, <iRODSCollection 21349657 b'boohoo1'>, <iRODSCollection 21277309 b'books'>, <iRODSCollection 21362737 b'Demo'>, <iRODSCollection 21349689 b'ELN'>, <iRODSCollection 21277398 b'game'>, <iRODSCollection 21277405 b'iRODS-setup-ACES'>, <iRODSCollection 21363008 b'test'>, <iRODSCollection 21362083 b'testdata'>, <iRODSCollection 21272097 b'YOUth_mock'>]\n"
     ]
    }
   ],
   "source": [
    "# Path to personal home (deafult iRODS)\n",
    "homeCollPath = '/' + session.zone + '/home/research-test-christine'\n",
    "homeColl = session.collections.get(homeCollPath)\n",
    "print(\"Data objects in\", homeCollPath, homeColl.data_objects)\n",
    "print(\"Subcollections in\", homeCollPath, homeColl.subcollections)"
   ]
  },
  {
   "cell_type": "markdown",
   "metadata": {},
   "source": [
    "## Some general remarks on data objects and collections\n",
    "**Terminology**: In Yoda we do not simply work with files and folders but data objects and collections.\n",
    "\n",
    "We see in the output above, that a collection is not represented by a simple string but it is a python object with some useful functions:"
   ]
  },
  {
   "cell_type": "code",
   "execution_count": 17,
   "metadata": {},
   "outputs": [
    {
     "name": "stdout",
     "output_type": "stream",
     "text": [
      "Path: /nluu12p/home/research-test-christine\n",
      "Name: research-test-christine\n"
     ]
    }
   ],
   "source": [
    "print(\"Path:\", homeColl.path)\n",
    "print(\"Name:\", homeColl.name)"
   ]
  },
  {
   "cell_type": "markdown",
   "metadata": {},
   "source": [
    "The same is true for data objects. Let's inspect one of the data objects that we will also use in the pipeline below"
   ]
  },
  {
   "cell_type": "code",
   "execution_count": 18,
   "metadata": {},
   "outputs": [
    {
     "name": "stdout",
     "output_type": "stream",
     "text": [
      "Path: /nluu12p/home/research-test-christine/books/AdventuresSherlockHolmes.txt\n",
      "Name: AdventuresSherlockHolmes.txt\n"
     ]
    }
   ],
   "source": [
    "objPath = \"/nluu12p/home/research-test-christine/books/AdventuresSherlockHolmes.txt\"\n",
    "obj = session.data_objects.get(objPath)\n",
    "print(\"Path:\", obj.path)\n",
    "print(\"Name:\", obj.name)"
   ]
  },
  {
   "cell_type": "markdown",
   "metadata": {},
   "source": [
    "For data objects we also have some system metadata available:"
   ]
  },
  {
   "cell_type": "code",
   "execution_count": 19,
   "metadata": {},
   "outputs": [
    {
     "name": "stdout",
     "output_type": "stream",
     "text": [
      "Size: 594238\n",
      "Checksum sha2:Y8VmrN3ikAZyEXOR/u+4XtbOL8R386UkE49HxUlkd7k=\n"
     ]
    }
   ],
   "source": [
    "print(\"Size:\", obj.size)\n",
    "print(\"Checksum\", obj.checksum)"
   ]
  },
  {
   "cell_type": "markdown",
   "metadata": {},
   "source": [
    "Both, collections and data objects can be annotated with user metadata, i.e tags that are meaningful to you. This metadata is formatted as key (name), value, units triple. The data object or collection cannot be separated from its metadata and with that we get a new powerfull feature and improvement over simple files and folders. \n",
    "\n",
    "**Terminology**: User-defined metadata in Yoda is called *attributes*.\n",
    "\n",
    "Let's dive into the technical aspects a bit.\n",
    "We can retrieve the metadata as a python object. However, we cannot access that metadata right away in human readable format:"
   ]
  },
  {
   "cell_type": "code",
   "execution_count": 20,
   "metadata": {},
   "outputs": [
    {
     "name": "stdout",
     "output_type": "stream",
     "text": [
      "Coll metadata: <irods.meta.iRODSMetaCollection object at 0x000001EF44253E50>\n",
      "Obj metadata: <irods.meta.iRODSMetaCollection object at 0x000001EF4479E690>\n"
     ]
    }
   ],
   "source": [
    "print(\"Coll metadata:\", homeColl.metadata)\n",
    "print(\"Obj metadata:\", obj.metadata)"
   ]
  },
  {
   "cell_type": "markdown",
   "metadata": {},
   "source": [
    "Here a small showcase how to get the keys and values of the metadata from our object:"
   ]
  },
  {
   "cell_type": "code",
   "execution_count": 21,
   "metadata": {},
   "outputs": [
    {
     "name": "stdout",
     "output_type": "stream",
     "text": [
      "Key: org_replication_failed , Value: true , Units: None\n",
      "Key: AUTHOR , Value: Arthur Conan Doyle , Units: None\n"
     ]
    }
   ],
   "source": [
    "for item in obj.metadata.items():\n",
    "    # Retrieve key(name), value, units\n",
    "    print(\"Key:\", item.name, \", Value:\", item.value, \", Units:\", item.units)"
   ]
  },
  {
   "cell_type": "markdown",
   "metadata": {},
   "source": [
    "This metadata we are going to use in the following pipeline. We will search for books written by a specific author and analyse their contents."
   ]
  },
  {
   "cell_type": "markdown",
   "metadata": {},
   "source": [
    "## Wordcount pipeline\n",
    "\n",
    "1. Search for data in Yoda\n",
    "2. Get the data\n",
    "    1. Make a copy of that data on our local storage\n",
    "    2. Stream the content of the data directly into a python variable\n",
    "3. Analyse the data\n",
    "4. Upload the result to Yoda\n",
    "    1. Store the result in a file and upload the file to Yoda\n",
    "    2. Stream the result directly to Yoda\n",
    "5. Annotate the result in Yoda with meaningful metadata, employing the [Prov-O Ontology](https://www.w3.org/TR/2013/REC-prov-o-20130430/#prov-o-at-a-glance)"
   ]
  },
  {
   "cell_type": "markdown",
   "metadata": {},
   "source": [
    "## Search for your input data\n",
    "User defined metadata is stored as Key-Value-Unit triples and someone already curated some data for us and stored it in Yoda. We will look for books which carry the key \"AUTHOR\" and where the value is \"Lewis Carroll\"."
   ]
  },
  {
   "cell_type": "code",
   "execution_count": 22,
   "metadata": {},
   "outputs": [
    {
     "name": "stdout",
     "output_type": "stream",
     "text": [
      "Searching for files\n",
      "+---------------------------------------------+---------------------------------+\n",
      "| COLL_NAME                                   | DATA_NAME                       |\n",
      "+---------------------------------------------+---------------------------------+\n",
      "| /nluu12p/home/research-test-christine/books | AliceAdventuresInWonderLand.txt |\n",
      "| /nluu12p/home/research-test-christine/books | TheHuntingOfTheSnark.txt        |\n",
      "| /nluu12p/home/research-test-christine/books | ThroughTheLookingGlass.txt      |\n",
      "+---------------------------------------------+---------------------------------+\n"
     ]
    }
   ],
   "source": [
    "ATTR_NAME = \"AUTHOR\" #case sensitive!!!\n",
    "ATTR_VALUE = \"Lewis Carroll\"\n",
    "\n",
    "print('Searching for files')\n",
    "query = session.query(Collection.name, DataObject.name)\n",
    "# Filtering for AUTHOR == Lewis Carroll\n",
    "filteredQuery = query.filter(DataObjectMeta.name == ATTR_NAME).\\\n",
    "                          filter(DataObjectMeta.value == ATTR_VALUE)\n",
    "print(filteredQuery.all())\n",
    "irods_paths = parse_query(filteredQuery)"
   ]
  },
  {
   "cell_type": "markdown",
   "metadata": {},
   "source": [
    "## Prepare data for analysis\n",
    "To look inside of the data we have two options in iRODS:\n",
    "1. We download the data to our fast storage system and have the data available and ready for being read from there.\n",
    "2. In some cases single files can become too large to be downloaded quickly or even too large to fit into the memory of the machine you are working on. In that case we can stream files into memory, i.e. reading a file bit by bit or just the interesting parts.\n",
    "\n",
    "### Option A: Create a working copy of the file in the data objects"
   ]
  },
  {
   "cell_type": "code",
   "execution_count": 23,
   "metadata": {},
   "outputs": [
    {
     "name": "stdout",
     "output_type": "stream",
     "text": [
      "Downloading: \n",
      "/nluu12p/home/research-test-christine/books/AliceAdventuresInWonderLand.txt\n",
      "/nluu12p/home/research-test-christine/books/TheHuntingOfTheSnark.txt\n",
      "/nluu12p/home/research-test-christine/books/ThroughTheLookingGlass.txt\n",
      "Write to:  C:\\Users\\Moope001/wordcount_data\n"
     ]
    }
   ],
   "source": [
    "print('Downloading: ')\n",
    "data_dir = os.path.expanduser(\"~/wordcount_data\")\n",
    "ensure_dir(data_dir)\n",
    "print('\\n'.join(irods_paths))\n",
    "get_data(session, irods_paths, data_dir)\n",
    "#Reading the data from the files into python variable\n",
    "text = files_to_text(data_dir)"
   ]
  },
  {
   "cell_type": "markdown",
   "metadata": {},
   "source": [
    "### Option B: Read the content of the file in the data object into memory\n",
    "In our example the data is relatively small and we have enough memory available. Moreover, it is textual data which we need to parse word by word as string anyway. Hence, we can directly load the content of the files into memory:"
   ]
  },
  {
   "cell_type": "code",
   "execution_count": 24,
   "metadata": {},
   "outputs": [
    {
     "name": "stdout",
     "output_type": "stream",
     "text": [
      "                ALICE'S ADVENTURES IN WONDERLAND\n",
      "\n",
      "                          Lewis Carroll\n",
      "\n",
      "         \n"
     ]
    }
   ],
   "source": [
    "text = ''\n",
    "for path in irods_paths:\n",
    "    obj = session.data_objects.get(path)\n",
    "    with obj.open('r') as objRead:\n",
    "        text = text + objRead.read().decode()\n",
    "print(text[:100])"
   ]
  },
  {
   "cell_type": "markdown",
   "metadata": {},
   "source": [
    "## Start your computational pipeline"
   ]
  },
  {
   "cell_type": "markdown",
   "metadata": {},
   "source": [
    "### The pipeline"
   ]
  },
  {
   "cell_type": "code",
   "execution_count": 25,
   "metadata": {},
   "outputs": [
    {
     "name": "stdout",
     "output_type": "stream",
     "text": [
      "Number of words: 61328\n"
     ]
    }
   ],
   "source": [
    "def wordcount(text):\n",
    "    # Convert to list of words, without punctuation\n",
    "    words = [''.join(char for char in word\n",
    "             if char not in string.punctuation) for word in text.split()]\n",
    "    print(\"Number of words:\", len(words))\n",
    "    unique_words_count = Counter(words)\n",
    "    return unique_words_count\n",
    "\n",
    "result = wordcount(text)"
   ]
  },
  {
   "cell_type": "markdown",
   "metadata": {},
   "source": [
    "We receive a dictionary mapping from words to the number of their occurences in all three books"
   ]
  },
  {
   "cell_type": "code",
   "execution_count": 26,
   "metadata": {},
   "outputs": [
    {
     "name": "stdout",
     "output_type": "stream",
     "text": [
      "Alice: 818\n",
      "Rabbit: 40\n",
      "Queen: 244\n"
     ]
    }
   ],
   "source": [
    "print(\"Alice:\", result[\"Alice\"])\n",
    "print(\"Rabbit:\", result[\"Rabbit\"])\n",
    "print(\"Queen:\", result[\"Queen\"])"
   ]
  },
  {
   "cell_type": "markdown",
   "metadata": {},
   "source": [
    "## Option A: Uploading your data to safe storage through iRODS and annotating the results"
   ]
  },
  {
   "cell_type": "markdown",
   "metadata": {},
   "source": [
    "**Write results to a file.** Of course we can write the results to a file like this and then upload it to Yoda again."
   ]
  },
  {
   "cell_type": "code",
   "execution_count": 27,
   "metadata": {},
   "outputs": [],
   "source": [
    "res_dir = os.path.expanduser(\"~/wordcount_results\")\n",
    "ensure_dir(res_dir)\n",
    "res_file = res_dir + \"/wordcount_res.txt\"\n",
    "with open(res_file, 'w') as file:\n",
    "    file.write(json.dumps(result))"
   ]
  },
  {
   "cell_type": "markdown",
   "metadata": {},
   "source": [
    "**Note**, our results are only stored locally without any proper backup! We need to upload the data to Yoda quickly!"
   ]
  },
  {
   "cell_type": "code",
   "execution_count": 28,
   "metadata": {},
   "outputs": [],
   "source": [
    "coll = session.collections.get('/' + session.zone + '/home/' + 'research-test-christine')\n",
    "objs_names = [obj.name for obj in coll.data_objects]\n",
    "f = os.path.basename(res_file)\n",
    "# little trick to prevent overwriting of data, \n",
    "# if the object name already exists in iRODS we extend it with a number\n",
    "count = 0\n",
    "while f in objs_names:\n",
    "        f = os.path.basename(res_file) + '_' +str(count)\n",
    "        count = count + 1"
   ]
  },
  {
   "cell_type": "code",
   "execution_count": 29,
   "metadata": {},
   "outputs": [
    {
     "name": "stdout",
     "output_type": "stream",
     "text": [
      "Upload results to:  /nluu12p/home/research-test-christine/wordcount_res.txt_2\n"
     ]
    }
   ],
   "source": [
    "print('Upload results to: ', coll.path + '/' + f)\n",
    "res_obj = put_file(session, res_file, coll.path + '/' + f)"
   ]
  },
  {
   "cell_type": "markdown",
   "metadata": {},
   "source": [
    "## Option B: Streaming the results to Yoda\n",
    "To avoid creating yet another file on our system, we can also directly stream the data to iRODS."
   ]
  },
  {
   "cell_type": "code",
   "execution_count": 30,
   "metadata": {},
   "outputs": [],
   "source": [
    "coll = session.collections.get('/' + session.zone + '/home/research-test-christine')\n",
    "obj_names = [obj.name for obj in coll.data_objects]\n",
    "new_obj_name = \"wordcount_result.txt\"\n",
    "\n",
    "# Ensuring that we do not overwrite a previous results file\n",
    "count = 0\n",
    "while new_obj_name in obj_names:\n",
    "        new_obj_name = new_obj_name + '_' +str(count)\n",
    "        count = count + 1"
   ]
  },
  {
   "cell_type": "markdown",
   "metadata": {},
   "source": [
    "Now that we have a valid object name for our new object we can create it and stream the content into the object:"
   ]
  },
  {
   "cell_type": "code",
   "execution_count": 31,
   "metadata": {},
   "outputs": [],
   "source": [
    "obj = session.data_objects.create(coll.path + \"/\" + new_obj_name)\n",
    "with obj.open('w') as obj_write:\n",
    "    obj_write.write(json.dumps(result).encode())"
   ]
  },
  {
   "cell_type": "markdown",
   "metadata": {},
   "source": [
    "### Adding metadata to the results in Yoda\n",
    "Now, we can annontate the data object in Yoda to ensure we know later how we created the data:"
   ]
  },
  {
   "cell_type": "code",
   "execution_count": 32,
   "metadata": {},
   "outputs": [
    {
     "name": "stdout",
     "output_type": "stream",
     "text": [
      "Adding metadata to /nluu12p/home/research-test-christine/wordcount_result.txt_0_1_2_3\n"
     ]
    }
   ],
   "source": [
    "print('Adding metadata to', obj.path)\n",
    "for path in irods_paths:\n",
    "        obj.metadata.add('prov:wasDerivedFrom', path)\n",
    "\n",
    "obj.metadata.add('ISEARCH', ATTR_NAME + '==' + ATTR_VALUE)\n",
    "obj.metadata.add('ISEARCHDATE', str(datetime.date.today()))\n",
    "obj.metadata.add('prov:SoftwareAgent', 'wordcount.py')"
   ]
  },
  {
   "cell_type": "markdown",
   "metadata": {},
   "source": [
    "## Last check: How is the file annotated in iRODS?"
   ]
  },
  {
   "cell_type": "code",
   "execution_count": 33,
   "metadata": {},
   "outputs": [
    {
     "name": "stdout",
     "output_type": "stream",
     "text": [
      "Metadata for:  /nluu12p/home/research-test-christine/wordcount_result.txt_0_1_2_3\n",
      "prov:wasDerivedFrom \t/nluu12p/home/research-test-christine/books/AliceAdventuresInWonderLand.txt\n",
      "prov:wasDerivedFrom \t/nluu12p/home/research-test-christine/books/TheHuntingOfTheSnark.txt\n",
      "prov:wasDerivedFrom \t/nluu12p/home/research-test-christine/books/ThroughTheLookingGlass.txt\n",
      "ISEARCH \tAUTHOR==Lewis Carroll\n",
      "prov:SoftwareAgent \twordcount.py\n",
      "org_revision_scheduled \tirodsResc\n",
      "org_replication_scheduled \tirodsResc,irodsRescRepl\n",
      "ISEARCHDATE \t2023-10-05\n"
     ]
    }
   ],
   "source": [
    "print('Metadata for: ', obj.path)\n",
    "print('\\n'.join([item.name +' \\t'+ item.value for item in obj.metadata.items()]))"
   ]
  },
  {
   "cell_type": "markdown",
   "metadata": {},
   "source": [
    "## Remove temporary data from scratch space\n",
    "If you chose option 1 and created temprorary copies of the data, **do not forget to clean up and free the space** for new data and computations."
   ]
  },
  {
   "cell_type": "code",
   "execution_count": 34,
   "metadata": {},
   "outputs": [
    {
     "name": "stdout",
     "output_type": "stream",
     "text": [
      "Removing local data in C:\\Users\\Moope001/wordcount_data\n",
      "Removing local data in C:\\Users\\Moope001/wordcount_results\n"
     ]
    }
   ],
   "source": [
    "print(\"Removing local data in\", data_dir)\n",
    "rmtree(data_dir)\n",
    "print(\"Removing local data in\", res_dir)\n",
    "rmtree(res_dir)"
   ]
  }
 ],
 "metadata": {
  "kernelspec": {
   "display_name": "Python 3 (ipykernel)",
   "language": "python",
   "name": "python3"
  },
  "language_info": {
   "codemirror_mode": {
    "name": "ipython",
    "version": 3
   },
   "file_extension": ".py",
   "mimetype": "text/x-python",
   "name": "python",
   "nbconvert_exporter": "python",
   "pygments_lexer": "ipython3",
   "version": "3.11.5"
  }
 },
 "nbformat": 4,
 "nbformat_minor": 2
}
