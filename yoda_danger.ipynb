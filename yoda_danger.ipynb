{
 "cells": [
  {
   "cell_type": "markdown",
   "metadata": {},
   "source": [
    "# Yoda: Python API danger zone\n",
    "\n",
    "**NOTE**: The python API gives you a lot of power and you can do a lot of misschief.\n",
    "Here we show some of that and the implications"
   ]
  },
  {
   "cell_type": "code",
   "execution_count": 1,
   "metadata": {},
   "outputs": [],
   "source": [
    "import getpass\n",
    "import os\n",
    "import json\n",
    "\n",
    "from irods.session import iRODSSession"
   ]
  },
  {
   "cell_type": "markdown",
   "metadata": {},
   "source": [
    "## Connecting to iRODS"
   ]
  },
  {
   "cell_type": "markdown",
   "metadata": {},
   "source": [
    "### Login to Yoda instances\n",
    "To connect to Yoda you will need an environment file. These files can be found [here (Step 2. Configuring iCommands)](https://www.uu.nl/en/research/yoda/guide-to-yoda/i-am-using-yoda/using-icommands-for-large-datasets). Please adjust the username in the file for your Yoda instance and store that file in your home-directory `~/.irods/irods-environment.json`.\n",
    "\n",
    "You will also need a [Data Access Password](https://www.uu.nl/en/research/yoda/using-data-access-passwords). "
   ]
  },
  {
   "cell_type": "code",
   "execution_count": 7,
   "metadata": {},
   "outputs": [
    {
     "name": "stdout",
     "output_type": "stream",
     "text": [
      "Yoda data access password········\n"
     ]
    }
   ],
   "source": [
    "passwd = getpass.getpass(\"Yoda data access password\")"
   ]
  },
  {
   "cell_type": "code",
   "execution_count": 8,
   "metadata": {},
   "outputs": [],
   "source": [
    "with open(os.path.expanduser(\"~/.irods/irods_environment.json\"), \"r\") as f:\n",
    "    ienv = json.load(f)\n",
    "session = iRODSSession(**ienv, password=passwd)"
   ]
  },
  {
   "cell_type": "markdown",
   "metadata": {},
   "source": [
    "## Changing Yoda metadata for archiving\n",
    "Prerequisites:\n",
    "\n",
    "1) Create a collection with one or two files\n",
    "2) Fill in the metadata form in yoda web-portal\n",
    "3) submite this collection to Vault\n",
    "\n",
    "\n",
    "In the previous tutorials we created own metadata tags. Now let's have a look at a collection which we already annotated with metadata in the Yoda web interface:"
   ]
  },
  {
   "cell_type": "code",
   "execution_count": 9,
   "metadata": {},
   "outputs": [
    {
     "name": "stdout",
     "output_type": "stream",
     "text": [
      "<iRODSCollection 21260094 b'blabla'>\n"
     ]
    }
   ],
   "source": [
    "homeCollPath = '/' + session.zone + '/home/research-test-christine'\n",
    "collPath = \"blabla\"\n",
    "coll = session.collections.get(homeCollPath +'/'+ collPath)\n",
    "print(coll)"
   ]
  },
  {
   "cell_type": "markdown",
   "metadata": {},
   "source": [
    "Now we can access the single metadata items and have a look at them:"
   ]
  },
  {
   "cell_type": "code",
   "execution_count": null,
   "metadata": {},
   "outputs": [],
   "source": [
    "for item in coll.metadata.items():\n",
    "    print(item.name, item.value, item.units)"
   ]
  },
  {
   "cell_type": "markdown",
   "metadata": {},
   "source": [
    "We see that there is a lot of metadata. Among the items you can find your metadata that you addded in the metadata.json, which is shown in the Yoda web front end in the metadata mask.\n",
    "\n",
    "What happens if we change that metadata? Let's change one of the Yoda metadata items and see what happens in the web interface.\n",
    "We will remove **Family_Name Staiger usr_6_s**."
   ]
  },
  {
   "cell_type": "code",
   "execution_count": null,
   "metadata": {},
   "outputs": [],
   "source": [
    "coll.metadata.remove(\"Family_Name\", \"Staiger\", \"usr_6_s\")"
   ]
  },
  {
   "cell_type": "code",
   "execution_count": null,
   "metadata": {},
   "outputs": [],
   "source": [
    "for item in coll.metadata.items():\n",
    "    print(item.name, item.value, item.units)"
   ]
  },
  {
   "cell_type": "markdown",
   "metadata": {},
   "source": [
    "We see, that the metadata in the Yoda database disappeared. Now let's check the Yoda web interface.\n",
    "![alt text](Yoda_metadata_web.png \"Title\")\n",
    "\n",
    "Yoda does also not allow us to add the metadata item again through the API. So we created inconsistent data."
   ]
  },
  {
   "cell_type": "code",
   "execution_count": null,
   "metadata": {},
   "outputs": [],
   "source": [
    "coll.metadata.add(\"Family_Name\", \"Staiger\", \"usr_6_s\")"
   ]
  },
  {
   "cell_type": "markdown",
   "metadata": {},
   "source": [
    "**Note, that only the metadata.json (which is rendered in the web interface) will be archived!!!**. The metadata in the Yoda database will be ignored in thos step."
   ]
  },
  {
   "cell_type": "markdown",
   "metadata": {},
   "source": [
    "## Changing Yoda metadata for workflows\n",
    "One of the metadata items in the list above is actually not only metadata but also a trigger for certain actions:\n",
    "`org_action_log [\"1663576969\", \"submitted for vault\", \"c.staiger@uu.nl#nluu12p\"] None`.\n",
    "This metadata indicates that the data has been submitted to the vault and your data manager received a message.\n",
    "\n",
    "![alt text](submitted_vault.png \"Title\")\n",
    "What happens if we change this metadata?"
   ]
  },
  {
   "cell_type": "code",
   "execution_count": null,
   "metadata": {},
   "outputs": [],
   "source": [
    "m_item = coll.metadata.items()[0]\n",
    "print(m_item)"
   ]
  },
  {
   "cell_type": "code",
   "execution_count": null,
   "metadata": {},
   "outputs": [],
   "source": [
    "coll.metadata.remove(m_item)"
   ]
  },
  {
   "cell_type": "markdown",
   "metadata": {},
   "source": [
    "Since the collection is no longer markerd as \"submitted\", the data manager does not get the drop down menu's choice to accept or reject the collection for archiving any longer and the procedure is interrupted:\n",
    "![alt text](resubmit.png \"Title\")"
   ]
  },
  {
   "cell_type": "markdown",
   "metadata": {},
   "source": [
    "The same is true for the metadata tag that triggers the replication of your data to another data centre."
   ]
  },
  {
   "cell_type": "markdown",
   "metadata": {},
   "source": [
    "## Accession Control Lists\n",
    "Yoda uses accession control lists (ACLs) to manage who can do what on the data."
   ]
  },
  {
   "cell_type": "code",
   "execution_count": 28,
   "metadata": {},
   "outputs": [],
   "source": [
    "objPath = \"/nluu12p/home/research-test-christine/books/AdventuresSherlockHolmes.txt\"\n",
    "obj = session.data_objects.get(objPath)"
   ]
  },
  {
   "cell_type": "code",
   "execution_count": 29,
   "metadata": {},
   "outputs": [
    {
     "name": "stderr",
     "output_type": "stream",
     "text": [
      "/var/folders/7z/3klc4jw14w9brkxtlk_312gh0000gp/T/ipykernel_8083/3818099567.py:1: DeprecationWarning: Use of session_obj.permissions is deprecated in v1.1.6\n",
      "  [vars(p) for p in session.permissions.get(obj)]\n"
     ]
    },
    {
     "data": {
      "text/plain": [
       "[{'access_name': 'read object',\n",
       "  'path': '/nluu12p/home/research-test-christine/books/AdventuresSherlockHolmes.txt',\n",
       "  'user_name': 'datamanager-its',\n",
       "  'user_zone': 'nluu12p',\n",
       "  'user_type': 'rodsgroup'},\n",
       " {'access_name': 'own',\n",
       "  'path': '/nluu12p/home/research-test-christine/books/AdventuresSherlockHolmes.txt',\n",
       "  'user_name': 'rods',\n",
       "  'user_zone': 'nluu12p',\n",
       "  'user_type': 'rodsadmin'}]"
      ]
     },
     "execution_count": 29,
     "metadata": {},
     "output_type": "execute_result"
    }
   ],
   "source": [
    "[vars(p) for p in session.permissions.get(obj)]"
   ]
  },
  {
   "cell_type": "markdown",
   "metadata": {},
   "source": [
    "The data is owned by your research group,  `research-test-christine`, 3rd entry. This is set up by the Yoda group manager module. Let's see if we can retract `own` right and hide our data object from the group:"
   ]
  },
  {
   "cell_type": "code",
   "execution_count": null,
   "metadata": {},
   "outputs": [],
   "source": [
    "from irods.access import iRODSAccess\n",
    "acl = iRODSAccess('own', obj.path, 'research-test-christine', session.zone)"
   ]
  },
  {
   "cell_type": "code",
   "execution_count": null,
   "metadata": {},
   "outputs": [],
   "source": [
    "session.permissions.set(acl)\n",
    "[vars(p) for p in session.permissions.get(obj)]"
   ]
  },
  {
   "cell_type": "markdown",
   "metadata": {},
   "source": [
    "*Yes*, we can ess up Yoda's group ACL structure."
   ]
  },
  {
   "cell_type": "markdown",
   "metadata": {},
   "source": [
    "## Working with data in the Vault\n",
    "### Prerequisites\n",
    "- An annotated collection with some files \n",
    "- Move the collection through the workflow in Yoda to the Vault (Front end)\n",
    "\n",
    "### Experiment\n",
    "- Check the ACLs and try to give your account `write` rights\n",
    "- Get the archived metadata in the iCAT and change it"
   ]
  },
  {
   "cell_type": "code",
   "execution_count": 10,
   "metadata": {},
   "outputs": [],
   "source": [
    "homeCollPath = '/' + session.zone + '/home/vault-test-christine'"
   ]
  },
  {
   "cell_type": "code",
   "execution_count": 11,
   "metadata": {},
   "outputs": [],
   "source": [
    "coll = session.collections.get(homeCollPath)"
   ]
  },
  {
   "cell_type": "code",
   "execution_count": 17,
   "metadata": {},
   "outputs": [],
   "source": [
    "data_coll = coll.subcollections[0]\n",
    "assert data_coll.owner_name != session.username"
   ]
  },
  {
   "cell_type": "code",
   "execution_count": 31,
   "metadata": {},
   "outputs": [
    {
     "name": "stdout",
     "output_type": "stream",
     "text": [
      "Set ACLs in Vault prohibited: Test passed\n"
     ]
    },
    {
     "name": "stderr",
     "output_type": "stream",
     "text": [
      "/var/folders/7z/3klc4jw14w9brkxtlk_312gh0000gp/T/ipykernel_8083/440074154.py:5: DeprecationWarning: Use of session_obj.permissions is deprecated in v1.1.6\n",
      "  session.permissions.set(acl) # Should return CAT_NO_ACCESS_PERMISSION\n"
     ]
    }
   ],
   "source": [
    "from irods.exception import CAT_NO_ACCESS_PERMISSION\n",
    "from irods.access import iRODSAccess\n",
    "acl = iRODSAccess('own', data_coll.path, 'c.staiger@uu.nl', session.zone)\n",
    "try:\n",
    "    session.permissions.set(acl) # Should return CAT_NO_ACCESS_PERMISSION\n",
    "    print(\"Set ACLs in Vault prohibited: Test failed\")\n",
    "except CAT_NO_ACCESS_PERMISSION:\n",
    "    print(\"Set ACLs in Vault prohibited: Test passed\")\n",
    "except Exception:\n",
    "    print(\"Fail\")"
   ]
  },
  {
   "cell_type": "code",
   "execution_count": 34,
   "metadata": {},
   "outputs": [
    {
     "ename": "CAT_NO_ACCESS_PERMISSION",
     "evalue": "None",
     "output_type": "error",
     "traceback": [
      "\u001b[0;31m---------------------------------------------------------------------------\u001b[0m",
      "\u001b[0;31mCAT_NO_ACCESS_PERMISSION\u001b[0m                  Traceback (most recent call last)",
      "Input \u001b[0;32mIn [34]\u001b[0m, in \u001b[0;36m<cell line: 2>\u001b[0;34m()\u001b[0m\n\u001b[1;32m      1\u001b[0m metadata \u001b[38;5;241m=\u001b[39m data_coll\u001b[38;5;241m.\u001b[39mmetadata\u001b[38;5;241m.\u001b[39mitems()[\u001b[38;5;241m0\u001b[39m]\n\u001b[0;32m----> 2\u001b[0m \u001b[43mdata_coll\u001b[49m\u001b[38;5;241;43m.\u001b[39;49m\u001b[43mmetadata\u001b[49m\u001b[38;5;241;43m.\u001b[39;49m\u001b[43mremove\u001b[49m\u001b[43m(\u001b[49m\u001b[43mmetadata\u001b[49m\u001b[43m)\u001b[49m\n",
      "File \u001b[0;32m/opt/homebrew/lib/python3.10/site-packages/irods/meta.py:151\u001b[0m, in \u001b[0;36miRODSMetaCollection.remove\u001b[0;34m(self, *args, **opts)\u001b[0m\n\u001b[1;32m    147\u001b[0m \u001b[38;5;124;03m\"\"\"\u001b[39;00m\n\u001b[1;32m    148\u001b[0m \u001b[38;5;124;03mRemoves an iRODSMeta\u001b[39;00m\n\u001b[1;32m    149\u001b[0m \u001b[38;5;124;03m\"\"\"\u001b[39;00m\n\u001b[1;32m    150\u001b[0m meta \u001b[38;5;241m=\u001b[39m \u001b[38;5;28mself\u001b[39m\u001b[38;5;241m.\u001b[39m_get_meta(\u001b[38;5;241m*\u001b[39margs)\n\u001b[0;32m--> 151\u001b[0m \u001b[38;5;28;43mself\u001b[39;49m\u001b[38;5;241;43m.\u001b[39;49m\u001b[43m_manager\u001b[49m\u001b[38;5;241;43m.\u001b[39;49m\u001b[43mremove\u001b[49m\u001b[43m(\u001b[49m\u001b[38;5;28;43mself\u001b[39;49m\u001b[38;5;241;43m.\u001b[39;49m\u001b[43m_model_cls\u001b[49m\u001b[43m,\u001b[49m\u001b[43m \u001b[49m\u001b[38;5;28;43mself\u001b[39;49m\u001b[38;5;241;43m.\u001b[39;49m\u001b[43m_path\u001b[49m\u001b[43m,\u001b[49m\u001b[43m \u001b[49m\u001b[43mmeta\u001b[49m\u001b[43m,\u001b[49m\u001b[43m \u001b[49m\u001b[38;5;241;43m*\u001b[39;49m\u001b[38;5;241;43m*\u001b[39;49m\u001b[43mopts\u001b[49m\u001b[43m)\u001b[49m\n\u001b[1;32m    152\u001b[0m \u001b[38;5;28mself\u001b[39m\u001b[38;5;241m.\u001b[39m_reset_metadata()\n",
      "File \u001b[0;32m/opt/homebrew/lib/python3.10/site-packages/irods/manager/metadata_manager.py:134\u001b[0m, in \u001b[0;36mMetadataManager.remove\u001b[0;34m(self, model_cls, path, meta, **opts)\u001b[0m\n\u001b[1;32m    132\u001b[0m \u001b[38;5;28;01mwith\u001b[39;00m \u001b[38;5;28mself\u001b[39m\u001b[38;5;241m.\u001b[39msess\u001b[38;5;241m.\u001b[39mpool\u001b[38;5;241m.\u001b[39mget_connection() \u001b[38;5;28;01mas\u001b[39;00m conn:\n\u001b[1;32m    133\u001b[0m     conn\u001b[38;5;241m.\u001b[39msend(request)\n\u001b[0;32m--> 134\u001b[0m     response \u001b[38;5;241m=\u001b[39m \u001b[43mconn\u001b[49m\u001b[38;5;241;43m.\u001b[39;49m\u001b[43mrecv\u001b[49m\u001b[43m(\u001b[49m\u001b[43m)\u001b[49m\n\u001b[1;32m    135\u001b[0m logger\u001b[38;5;241m.\u001b[39mdebug(response\u001b[38;5;241m.\u001b[39mint_info)\n",
      "File \u001b[0;32m/opt/homebrew/lib/python3.10/site-packages/irods/connection.py:133\u001b[0m, in \u001b[0;36mConnection.recv\u001b[0;34m(self, into_buffer, return_message, acceptable_errors)\u001b[0m\n\u001b[1;32m    131\u001b[0m         err_msg \u001b[38;5;241m=\u001b[39m \u001b[38;5;28;01mNone\u001b[39;00m\n\u001b[1;32m    132\u001b[0m     \u001b[38;5;28;01mif\u001b[39;00m nominal_code(msg\u001b[38;5;241m.\u001b[39mint_info) \u001b[38;5;129;01mnot\u001b[39;00m \u001b[38;5;129;01min\u001b[39;00m acceptable_codes:\n\u001b[0;32m--> 133\u001b[0m         \u001b[38;5;28;01mraise\u001b[39;00m get_exception_by_code(msg\u001b[38;5;241m.\u001b[39mint_info, err_msg)\n\u001b[1;32m    134\u001b[0m \u001b[38;5;28;01mreturn\u001b[39;00m msg\n",
      "\u001b[0;31mCAT_NO_ACCESS_PERMISSION\u001b[0m: None"
     ]
    }
   ],
   "source": [
    "metadata = data_coll.metadata.items()[0]\n",
    "data_coll.metadata.remove(metadata)\n"
   ]
  },
  {
   "cell_type": "code",
   "execution_count": 37,
   "metadata": {},
   "outputs": [
    {
     "data": {
      "text/plain": [
       "<iRODSDataObject 21368138 yoda-metadata[1698656928].json>"
      ]
     },
     "execution_count": 37,
     "metadata": {},
     "output_type": "execute_result"
    }
   ],
   "source": [
    "obj = data_coll.data_objects[0]\n",
    "obj"
   ]
  },
  {
   "cell_type": "code",
   "execution_count": 38,
   "metadata": {},
   "outputs": [
    {
     "ename": "CAT_NO_ACCESS_PERMISSION",
     "evalue": "None",
     "output_type": "error",
     "traceback": [
      "\u001b[0;31m---------------------------------------------------------------------------\u001b[0m",
      "\u001b[0;31mCAT_NO_ACCESS_PERMISSION\u001b[0m                  Traceback (most recent call last)",
      "Input \u001b[0;32mIn [38]\u001b[0m, in \u001b[0;36m<cell line: 1>\u001b[0;34m()\u001b[0m\n\u001b[0;32m----> 1\u001b[0m \u001b[43mobj\u001b[49m\u001b[38;5;241;43m.\u001b[39;49m\u001b[43munlink\u001b[49m\u001b[43m(\u001b[49m\u001b[43m)\u001b[49m\n",
      "File \u001b[0;32m/opt/homebrew/lib/python3.10/site-packages/irods/data_object.py:108\u001b[0m, in \u001b[0;36miRODSDataObject.unlink\u001b[0;34m(self, force, **options)\u001b[0m\n\u001b[1;32m    107\u001b[0m \u001b[38;5;28;01mdef\u001b[39;00m \u001b[38;5;21munlink\u001b[39m(\u001b[38;5;28mself\u001b[39m, force\u001b[38;5;241m=\u001b[39m\u001b[38;5;28;01mFalse\u001b[39;00m, \u001b[38;5;241m*\u001b[39m\u001b[38;5;241m*\u001b[39moptions):\n\u001b[0;32m--> 108\u001b[0m     \u001b[38;5;28;43mself\u001b[39;49m\u001b[38;5;241;43m.\u001b[39;49m\u001b[43mmanager\u001b[49m\u001b[38;5;241;43m.\u001b[39;49m\u001b[43munlink\u001b[49m\u001b[43m(\u001b[49m\u001b[38;5;28;43mself\u001b[39;49m\u001b[38;5;241;43m.\u001b[39;49m\u001b[43mpath\u001b[49m\u001b[43m,\u001b[49m\u001b[43m \u001b[49m\u001b[43mforce\u001b[49m\u001b[43m,\u001b[49m\u001b[43m \u001b[49m\u001b[38;5;241;43m*\u001b[39;49m\u001b[38;5;241;43m*\u001b[39;49m\u001b[43moptions\u001b[49m\u001b[43m)\u001b[49m\n",
      "File \u001b[0;32m/opt/homebrew/lib/python3.10/site-packages/irods/manager/data_object_manager.py:396\u001b[0m, in \u001b[0;36mDataObjectManager.unlink\u001b[0;34m(self, path, force, **options)\u001b[0m\n\u001b[1;32m    394\u001b[0m \u001b[38;5;28;01mwith\u001b[39;00m \u001b[38;5;28mself\u001b[39m\u001b[38;5;241m.\u001b[39msess\u001b[38;5;241m.\u001b[39mpool\u001b[38;5;241m.\u001b[39mget_connection() \u001b[38;5;28;01mas\u001b[39;00m conn:\n\u001b[1;32m    395\u001b[0m     conn\u001b[38;5;241m.\u001b[39msend(message)\n\u001b[0;32m--> 396\u001b[0m     response \u001b[38;5;241m=\u001b[39m \u001b[43mconn\u001b[49m\u001b[38;5;241;43m.\u001b[39;49m\u001b[43mrecv\u001b[49m\u001b[43m(\u001b[49m\u001b[43m)\u001b[49m\n",
      "File \u001b[0;32m/opt/homebrew/lib/python3.10/site-packages/irods/connection.py:133\u001b[0m, in \u001b[0;36mConnection.recv\u001b[0;34m(self, into_buffer, return_message, acceptable_errors)\u001b[0m\n\u001b[1;32m    131\u001b[0m         err_msg \u001b[38;5;241m=\u001b[39m \u001b[38;5;28;01mNone\u001b[39;00m\n\u001b[1;32m    132\u001b[0m     \u001b[38;5;28;01mif\u001b[39;00m nominal_code(msg\u001b[38;5;241m.\u001b[39mint_info) \u001b[38;5;129;01mnot\u001b[39;00m \u001b[38;5;129;01min\u001b[39;00m acceptable_codes:\n\u001b[0;32m--> 133\u001b[0m         \u001b[38;5;28;01mraise\u001b[39;00m get_exception_by_code(msg\u001b[38;5;241m.\u001b[39mint_info, err_msg)\n\u001b[1;32m    134\u001b[0m \u001b[38;5;28;01mreturn\u001b[39;00m msg\n",
      "\u001b[0;31mCAT_NO_ACCESS_PERMISSION\u001b[0m: None"
     ]
    }
   ],
   "source": [
    "obj.unlink()"
   ]
  },
  {
   "cell_type": "code",
   "execution_count": null,
   "metadata": {},
   "outputs": [],
   "source": []
  }
 ],
 "metadata": {
  "kernelspec": {
   "display_name": "Python 3 (ipykernel)",
   "language": "python",
   "name": "python3"
  },
  "language_info": {
   "codemirror_mode": {
    "name": "ipython",
    "version": 3
   },
   "file_extension": ".py",
   "mimetype": "text/x-python",
   "name": "python",
   "nbconvert_exporter": "python",
   "pygments_lexer": "ipython3",
   "version": "3.10.13"
  }
 },
 "nbformat": 4,
 "nbformat_minor": 2
}
