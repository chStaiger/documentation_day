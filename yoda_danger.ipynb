{
 "cells": [
  {
   "cell_type": "markdown",
   "metadata": {},
   "source": [
    "# Yoda-Python Interface Danger zone\n",
    "\n",
    "The python-irods application programming interface (API, from here we will use the word 'interface') is very useful for working directly with Yoda data and metadata from within Python. The interface gives you a lot of power and is really useful to avoid unnecessary copies of your data. However, there are some risks: if used incorrectly you can cause **harm to your projects data/metadata.**\n",
    "In this notebook, we show some of that and the possible implications. Use it to learn, not to cause harm to your data 😉"
   ]
  },
  {
   "cell_type": "markdown",
   "metadata": {},
   "source": [
    "The following piece of code can be used to import the tools to start an iRODSSession (an active connection to Yoda)."
   ]
  },
  {
   "cell_type": "code",
   "execution_count": 1,
   "metadata": {
    "collapsed": true
   },
   "outputs": [],
   "source": [
    "import getpass\n",
    "import os\n",
    "import json\n",
    "from pathlib import Path\n",
    "\n",
    "from irods.session import iRODSSession"
   ]
  },
  {
   "cell_type": "markdown",
   "metadata": {},
   "source": [
    "## Connecting to iRODS"
   ]
  },
  {
   "cell_type": "markdown",
   "metadata": {},
   "source": [
    "### Login to Yoda\n",
    "\n",
    "To connect to Yoda via Python you will need to create an environment file. First create hidden folder called `.irods` in your home directory:"
   ]
  },
  {
   "cell_type": "code",
   "execution_count": 2,
   "metadata": {
    "collapsed": true
   },
   "outputs": [
    {
     "name": "stdout",
     "output_type": "stream",
     "text": [
      "Folder /Users/staig001/.irods/ already exists\n"
     ]
    }
   ],
   "source": [
    "env_dir = str(Path.home()) + '/.irods/'\n",
    "if not os.path.exists(env_dir):\n",
    "  os.mkdir(env_dir)\n",
    "  print(\"Folder %s created!\" % env_dir)\n",
    "else:\n",
    "  print(\"Folder %s already exists\" % env_dir)"
   ]
  },
  {
   "cell_type": "markdown",
   "metadata": {},
   "source": [
    "Now create the environment file. The contents of the file are specific for your faculty and can be found [here (Step 2. Configuring iCommands)](https://www.uu.nl/en/research/yoda/guide-to-yoda/i-am-using-yoda/using-icommands-for-large-datasets). You can create the file manually or adapt the cell below. Copy and paste the info relevant for your faculty in the file (or the code cell below) and adjust the `irods_user_name` to your email address."
   ]
  },
  {
   "cell_type": "code",
   "execution_count": 4,
   "metadata": {
    "collapsed": true
   },
   "outputs": [
    {
     "name": "stdout",
     "output_type": "stream",
     "text": [
      "File /Users/staig001/.irods/irods_environment.json already exists\n"
     ]
    }
   ],
   "source": [
    "env_file = env_dir + 'irods_environment.json'\n",
    "\n",
    "if os.path.exists(env_file):\n",
    "    print(\"File %s already exists\" % env_file)\n",
    "else:\n",
    "    dictionary = {}\n",
    "        # REPLACE THIS PART WITH THE INFO FOR YOUR FACULTY\n",
    "        #    {   \n",
    "        #    \"irods_host\": \"science.data.uu.nl\",   \n",
    "        #    \"irods_port\": 1247,    \"irods_home\": \"/nluu6p/home\",   \n",
    "        #    \"irods_user_name\": \"exampleuser@uu.nl\",   \n",
    "        #    \"irods_zone_name\": \"nluu6p\",   \n",
    "        #    \"irods_authentication_scheme\": \"pam\",   \n",
    "        #    \"irods_encryption_algorithm\": \"AES-256-CBC\",   \n",
    "        #    \"irods_encryption_key_size\": 32,   \n",
    "        #    \"irods_encryption_num_hash_rounds\": 16,   \n",
    "        #    \"irods_encryption_salt_size\": 8,   \n",
    "        #    \"irods_client_server_policy\": \"CS_NEG_REQUIRE\",\n",
    "        #    \"irods_client_server_negotiation\": \"request_server_negotiation\"\n",
    "        #    }\n",
    "    with open(env_file, 'w') as outfile:  \n",
    "        json.dump(dictionary, outfile)"
   ]
  },
  {
   "cell_type": "markdown",
   "metadata": {},
   "source": [
    "You will also need to create a [Data Access Password](https://www.uu.nl/en/research/yoda/using-data-access-passwords). When you have a data access password, run the cell below and Enter your Data Access Password in the pop up window that asks for your password:\""
   ]
  },
  {
   "cell_type": "code",
   "execution_count": null,
   "metadata": {
    "collapsed": true
   },
   "outputs": [],
   "source": [
    "passwd = getpass.getpass(\"Enter your Yoda data access password\")"
   ]
  },
  {
   "cell_type": "markdown",
   "metadata": {},
   "source": [
    "<div class=\\\"alert alert-block alert-danger\\\"><b>Warning:</b> This password is your secret! You can enter it safely in the pop up window but don't put the actual password in this notebook, especially when you plan to put the notebook on e.g. GitHub.</div>"
   ]
  },
  {
   "cell_type": "markdown",
   "metadata": {},
   "source": [
    "Now run the cell below to start your iRODS session (active connection to Yoda)!"
   ]
  },
  {
   "cell_type": "code",
   "execution_count": null,
   "metadata": {
    "collapsed": true
   },
   "outputs": [],
   "source": [
    "with open(os.path.expanduser(\"~/.irods/irods_environment.json\"), \"r\") as f:\n",
    "    ienv = json.load(f)\n",
    "session = iRODSSession(**ienv, password=passwd)"
   ]
  },
  {
   "cell_type": "markdown",
   "metadata": {},
   "source": [
    "## Changing Yoda metadata and archiving\n",
    "\n",
    "To be able to proceed with the following steps, there are some steps you have to perform via the Yoda portal:\n",
    "\n",
    "1) Create a [collection](TODO: link to glossary) with two files\n",
    "2) Fill in the metadata form in the web-portal. (TODO, maybe specify what to fill)\n",
    "3) Submit this collection to Vault (TODO is this explained somewhere? Insert a link)\n",
    "\n",
    "*TODO, add instructions for the above part so the user can follow and run the code below with minimal instructions (make sure the collPath name is in these instructions)*\n",
    "\n",
    "Now let's have a look at the collection that we just created via the Python interface:"
   ]
  },
  {
   "cell_type": "code",
   "execution_count": null,
   "metadata": {
    "collapsed": true
   },
   "outputs": [],
   "source": [
    "homeCollPath = '/' + session.zone + '/home/research-test-christine'\n",
    "collPath = \"blabla\"\n",
    "coll = session.collections.get(homeCollPath +'/'+ collPath)\n",
    "print(coll)"
   ]
  },
  {
   "cell_type": "markdown",
   "metadata": {},
   "source": [
    "We can access the single metadata items and have a look at them:"
   ]
  },
  {
   "cell_type": "code",
   "execution_count": null,
   "metadata": {
    "collapsed": true
   },
   "outputs": [],
   "source": [
    "for item in coll.metadata.items():\n",
    "    print(item.name, item.value, item.units)"
   ]
  },
  {
   "cell_type": "markdown",
   "metadata": {},
   "source": [
    "We see that there is a lot of metadata. Among the items that are printed you can find your metadata that you added in the steps above.\n",
    "\n",
    "What happens if we change that metadata via the Python interface? \n",
    "First we will remove an item **Family_Name Staiger usr_6_s**. \n",
    "\n",
    "*TODO, give instructions above so that the we know what the user has to fill below and give very clear instructions for that*"
   ]
  },
  {
   "cell_type": "code",
   "execution_count": null,
   "metadata": {
    "collapsed": true
   },
   "outputs": [],
   "source": [
    "coll.metadata.remove(\"Family_Name\", \"Staiger\", \"usr_6_s\")"
   ]
  },
  {
   "cell_type": "code",
   "execution_count": null,
   "metadata": {
    "collapsed": true
   },
   "outputs": [],
   "source": [
    "for item in coll.metadata.items():\n",
    "    print(item.name, item.value, item.units)"
   ]
  },
  {
   "cell_type": "markdown",
   "metadata": {},
   "source": [
    "Now open the web interface and check what has happened.\n",
    "\n",
    "*TODO, add instructions where exactly to check the metadata*"
   ]
  },
  {
   "cell_type": "markdown",
   "metadata": {},
   "source": [
    "Now let's try to add it again via the web portal.\n",
    "\n",
    "![alt text](Yoda_metadata_web.png \"Title\")\n",
    "\n",
    "If we now try to add the metadata item again via the Python interface Yoda will not allow us that."
   ]
  },
  {
   "cell_type": "code",
   "execution_count": null,
   "metadata": {
    "collapsed": true
   },
   "outputs": [],
   "source": [
    "coll.metadata.add(\"Family_Name\", \"Staiger\", \"usr_6_s\")"
   ]
  },
  {
   "cell_type": "markdown",
   "metadata": {},
   "source": [
    "**Note, that only the metadata that is rendered in the web interface will be archived!!!**. The metadata in the Yoda database will be ignored in thos step."
   ]
  },
  {
   "cell_type": "markdown",
   "metadata": {},
   "source": [
    "## Changing Yoda metadata for workflows\n",
    "One of the metadata items in the list above is actually not only metadata but also a trigger for certain actions:\n",
    "`org_action_log [\"1663576969\", \"submitted for vault\", \"c.staiger@uu.nl#nluu12p\"] None`.\n",
    "This metadata indicates that the data has been submitted to the vault and your data manager received a message.\n",
    "\n",
    "![alt text](submitted_vault.png \"Title\")\n",
    "What happens if we change this metadata?"
   ]
  },
  {
   "cell_type": "code",
   "execution_count": null,
   "metadata": {
    "collapsed": true
   },
   "outputs": [],
   "source": [
    "m_item = coll.metadata.items()[0]\n",
    "print(m_item)"
   ]
  },
  {
   "cell_type": "code",
   "execution_count": null,
   "metadata": {
    "collapsed": true
   },
   "outputs": [],
   "source": [
    "coll.metadata.remove(m_item)"
   ]
  },
  {
   "cell_type": "markdown",
   "metadata": {},
   "source": [
    "Since the collection is no longer markerd as \"submitted\", the data manager does not get the drop down menu's choice to accept or reject the collection for archiving any longer and the procedure is interrupted:\n",
    "![alt text](resubmit.png \"Title\")"
   ]
  },
  {
   "cell_type": "markdown",
   "metadata": {},
   "source": [
    "The same is true for the metadata tag that triggers the replication of your data to another data centre."
   ]
  },
  {
   "cell_type": "markdown",
   "metadata": {},
   "source": [
    "## Accession Control Lists\n",
    "Yoda uses accession control lists (ACLs) to manage who can do what on the data."
   ]
  },
  {
   "cell_type": "code",
   "execution_count": null,
   "metadata": {
    "collapsed": true
   },
   "outputs": [],
   "source": [
    "objPath = \"/nluu12p/home/research-test-christine/books/AdventuresSherlockHolmes.txt\"\n",
    "obj = session.data_objects.get(objPath)"
   ]
  },
  {
   "cell_type": "code",
   "execution_count": null,
   "metadata": {
    "collapsed": true
   },
   "outputs": [],
   "source": [
    "[vars(p) for p in session.permissions.get(obj)]"
   ]
  },
  {
   "cell_type": "markdown",
   "metadata": {},
   "source": [
    "The data is owned by your research group,  `research-test-christine`, 3rd entry. This is set up by the Yoda group manager module. Let's see if we can retract `own` right and hide our data object from the group:"
   ]
  },
  {
   "cell_type": "code",
   "execution_count": null,
   "metadata": {
    "collapsed": true
   },
   "outputs": [],
   "source": [
    "from irods.access import iRODSAccess\n",
    "acl = iRODSAccess('own', obj.path, 'research-test-christine', session.zone)"
   ]
  },
  {
   "cell_type": "code",
   "execution_count": null,
   "metadata": {
    "collapsed": true
   },
   "outputs": [],
   "source": [
    "session.permissions.set(acl)\n",
    "[vars(p) for p in session.permissions.get(obj)]"
   ]
  },
  {
   "cell_type": "markdown",
   "metadata": {},
   "source": [
    "*Yes*, we can ess up Yoda's group ACL structure."
   ]
  },
  {
   "cell_type": "code",
   "execution_count": null,
   "metadata": {
    "collapsed": true
   },
   "outputs": [],
   "source": []
  }
 ],
 "metadata": {
  "kernelspec": {
   "display_name": "Python 3 (ipykernel)",
   "language": "python",
   "name": "python3"
  },
  "language_info": {
   "codemirror_mode": {
    "name": "ipython",
    "version": 3
   },
   "file_extension": ".py",
   "mimetype": "text/x-python",
   "name": "python",
   "nbconvert_exporter": "python",
   "pygments_lexer": "ipython3",
   "version": "3.10.13"
  }
 },
 "nbformat": 4,
 "nbformat_minor": 4
}
